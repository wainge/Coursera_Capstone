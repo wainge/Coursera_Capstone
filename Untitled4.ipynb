{
 "cells": [
  {
   "cell_type": "markdown",
   "metadata": {},
   "source": [
    "**Introduction/Business Problem** \n"
   ]
  },
  {
   "cell_type": "markdown",
   "metadata": {},
   "source": [
    "I'm looking to open a Sports Bar in Denver, Colorado, however, I do not know what the best area would be. My plan is \n",
    "to use FourSquare lcoation data to first identify clusters of neighbrhoods, then using the tips data, identify\n",
    "which which neighborhoods have the highest number of tips per bar, meaning they would be potnetailly be underserved. "
   ]
  },
  {
   "cell_type": "markdown",
   "metadata": {},
   "source": [
    "**Data**"
   ]
  },
  {
   "cell_type": "markdown",
   "metadata": {},
   "source": [
    "    - Foursquare Location: The longitude and latitude data will be used to create clusters based on actual geolocation points.\n",
    "    - Foursquare Tips: The number of tips for each venue will be used as a total quantity to demonstrate popularity.\n",
    "    "
   ]
  },
  {
   "cell_type": "code",
   "execution_count": null,
   "metadata": {},
   "outputs": [],
   "source": []
  }
 ],
 "metadata": {
  "kernelspec": {
   "display_name": "Python 3",
   "language": "python",
   "name": "python3"
  },
  "language_info": {
   "codemirror_mode": {
    "name": "ipython",
    "version": 3
   },
   "file_extension": ".py",
   "mimetype": "text/x-python",
   "name": "python",
   "nbconvert_exporter": "python",
   "pygments_lexer": "ipython3",
   "version": "3.8.5"
  }
 },
 "nbformat": 4,
 "nbformat_minor": 4
}
